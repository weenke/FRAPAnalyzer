{
 "cells": [
  {
   "cell_type": "code",
   "execution_count": 51,
   "metadata": {},
   "outputs": [],
   "source": [
    "from frap_analyzer import *\n",
    "import pickle\n",
    "import matplotlib.pyplot as plt\n",
    "import numpy as np\n",
    "import cv2 as cv\n",
    "import json\n",
    "import os"
   ]
  },
  {
   "cell_type": "code",
   "execution_count": 52,
   "metadata": {},
   "outputs": [
    {
     "name": "stdout",
     "output_type": "stream",
     "text": [
      "['280322-CADC-FAF.lif', '090522_FAF_SAS_FRAP.lif', '160322-CrACr.lif']\n"
     ]
    }
   ],
   "source": [
    "path = os.getcwd()\n",
    "names = [name for name in os.listdir(path=f'{path}/data_in')]\n",
    "\n",
    "print(names)"
   ]
  },
  {
   "cell_type": "code",
   "execution_count": 53,
   "metadata": {},
   "outputs": [],
   "source": [
    "lif_file_name = 'data_in/160322-CrACr.lif' #data_in\\090522_FAF_SAS_FRAP.lif\n",
    "lif_files = LifFile(f'./{lif_file_name}')\n",
    "imf_list = [i for i in lif_files.get_iter_image()]\n",
    "\n",
    "run_name = 'FRAP_009'\n",
    "\n",
    "data1 = dataLoader(imf_list)\n",
    "\n",
    "\n",
    "\n",
    "with open('/home/daniil/codebase/frap/params_160322_CrACr.pickle', 'rb') as pickl_file:\n",
    "    params = pickle.load(pickl_file)\n",
    "\n"
   ]
  },
  {
   "cell_type": "code",
   "execution_count": 68,
   "metadata": {},
   "outputs": [
    {
     "data": {
      "text/plain": [
       "42.93660109803922"
      ]
     },
     "execution_count": 68,
     "metadata": {},
     "output_type": "execute_result"
    }
   ],
   "source": [
    "256/data1.data[8].scale_n[1]"
   ]
  },
  {
   "cell_type": "code",
   "execution_count": 73,
   "metadata": {},
   "outputs": [
    {
     "data": {
      "text/plain": [
       "0.1677210980392157"
      ]
     },
     "execution_count": 73,
     "metadata": {},
     "output_type": "execute_result"
    }
   ],
   "source": [
    "xy_scale = 1/data1.data[8].scale_n[1]\n",
    "xy_scale"
   ]
  },
  {
   "cell_type": "code",
   "execution_count": 54,
   "metadata": {},
   "outputs": [
    {
     "name": "stdout",
     "output_type": "stream",
     "text": [
      "hello\n"
     ]
    }
   ],
   "source": [
    "\n",
    "params['FRAP_009']['min_norm']\n",
    "print('hello')"
   ]
  },
  {
   "cell_type": "code",
   "execution_count": 55,
   "metadata": {},
   "outputs": [],
   "source": [
    "def singular_process(name, parameters):\n",
    "#try:\n",
    "    timeline = data1.getTimeline(name)\n",
    "    intensity_reading = data1.getMeanIntensity(parameters, name)\n",
    "#except:\n",
    "    #timeline = [0]\n",
    "    #intensity_reading = [0]\n",
    "    return [timeline, intensity_reading]"
   ]
  },
  {
   "cell_type": "code",
   "execution_count": 5,
   "metadata": {},
   "outputs": [
    {
     "name": "stdout",
     "output_type": "stream",
     "text": [
      "0.13394535815308525\n",
      "0.1409520260618687\n",
      "0.1485628144108132\n",
      "0.15507263560245488\n",
      "0.15772624875082575\n",
      "0.16375051519616976\n",
      "0.16924970499726166\n",
      "0.17126532179293916\n",
      "0.17705810283597848\n",
      "0.18063201160814601\n",
      "0.18496812841229243\n",
      "0.1889203182077384\n",
      "0.19318868318682\n",
      "0.20575100075091607\n",
      "0.20265700073962406\n",
      "0.20583569053224704\n",
      "0.2079134131675672\n",
      "0.21200675259856477\n",
      "0.21679454823647648\n",
      "0.21750029641423463\n",
      "0.227680008130219\n",
      "0.2355166358960461\n",
      "0.2443413111107347\n",
      "0.2548202600540886\n",
      "0.2610703659163152\n",
      "0.27041447178983385\n",
      "0.2832873185521435\n",
      "0.28381804118181764\n",
      "0.28618935505908527\n",
      "0.2947994828277353\n",
      "0.3018569646053174\n",
      "0.3125617529655539\n",
      "0.31457736976123124\n",
      "0.3186142493380082\n",
      "0.3224309354833246\n",
      "0.3385050559799454\n",
      "0.342846818769514\n",
      "0.34941874580079835\n",
      "0.3519763771969941\n",
      "0.36394022030635115\n",
      "0.3663849319941056\n",
      "0.3678528882038427\n",
      "0.370721048798252\n",
      "0.3731093006317857\n",
      "0.3813242094208913\n",
      "0.38733153790996916\n",
      "0.38633784447568564\n",
      "0.3890309795220109\n",
      "0.3945075853814146\n",
      "0.397641107290661\n",
      "0.4024458408848389\n",
      "0.40403800877386137\n",
      "0.4078885708317101\n",
      "0.4121117679274152\n",
      "0.41421772048984573\n",
      "0.418802260652563\n",
      "0.419575760655386\n",
      "0.42589926432809955\n",
      "0.42706233732504495\n",
      "0.4280447387884845\n",
      "0.4312629504790618\n",
      "0.43520949428908573\n",
      "0.43745659648706786\n",
      "0.439788388466381\n",
      "0.44153864394722137\n",
      "0.4421653483290706\n",
      "0.4467781184188982\n",
      "0.4515376841296996\n",
      "0.450114895803339\n",
      "0.45111423522304467\n",
      "0.4548067096890756\n",
      "0.45956062941445486\n",
      "0.4677642462327163\n",
      "0.46888215134628525\n",
      "0.4700508703286527\n",
      "0.4748668958936748\n",
      "0.47697849444152735\n",
      "0.47869487400983535\n",
      "0.4828051513970991\n",
      "0.4888350638278652\n",
      "0.4855603922830671\n",
      "0.4862943703879357\n",
      "0.48627178644624747\n",
      "0.4931373047194792\n",
      "0.4918048521598717\n",
      "0.49256141420642846\n",
      "0.49284935946295394\n",
      "0.4963159945121021\n",
      "0.4981340018180073\n",
      "0.5013578594940067\n",
      "0.49950033029014723\n",
      "0.5020805456280312\n",
      "0.5065973339656837\n",
      "0.5086694106155818\n",
      "0.5078450967439602\n",
      "0.5077716989334733\n",
      "0.5162180931248835\n",
      "0.5119666661020681\n",
      "0.5126554763235601\n",
      "0.5159301478683582\n",
      "0.5152865055302427\n",
      "0.5183127537164699\n",
      "0.5182111259788728\n",
      "0.5246249654183394\n",
      "0.5225246588413309\n",
      "0.5254831552024933\n",
      "0.5263582829429134\n",
      "0.5246644873162937\n",
      "0.5278939909777153\n",
      "0.530095925292321\n",
      "0.5315525895312139\n",
      "0.5309202391639425\n",
      "0.5351321442888035\n",
      "0.5362895713003271\n",
      "0.536549286629742\n",
      "0.5365944545131185\n",
      "0.5398013742328517\n",
      "0.5419524946786588\n",
      "0.5433131771653765\n",
      "0.5422347939497622\n",
      "0.5417492392034644\n"
     ]
    },
    {
     "name": "stderr",
     "output_type": "stream",
     "text": [
      "/home/daniil/miniconda3/envs/frap/lib/python3.9/site-packages/numpy/core/fromnumeric.py:3474: RuntimeWarning: Mean of empty slice.\n",
      "  return _methods._mean(a, axis=axis, dtype=dtype,\n",
      "/home/daniil/miniconda3/envs/frap/lib/python3.9/site-packages/numpy/core/_methods.py:189: RuntimeWarning: invalid value encountered in double_scalars\n",
      "  ret = ret.dtype.type(ret / rcount)\n",
      "/home/daniil/miniconda3/envs/frap/lib/python3.9/site-packages/numpy/core/fromnumeric.py:3474: RuntimeWarning: Mean of empty slice.\n",
      "  return _methods._mean(a, axis=axis, dtype=dtype,\n",
      "/home/daniil/miniconda3/envs/frap/lib/python3.9/site-packages/numpy/core/_methods.py:189: RuntimeWarning: invalid value encountered in double_scalars\n",
      "  ret = ret.dtype.type(ret / rcount)\n",
      "/home/daniil/miniconda3/envs/frap/lib/python3.9/site-packages/numpy/core/fromnumeric.py:3474: RuntimeWarning: Mean of empty slice.\n",
      "  return _methods._mean(a, axis=axis, dtype=dtype,\n",
      "/home/daniil/miniconda3/envs/frap/lib/python3.9/site-packages/numpy/core/_methods.py:189: RuntimeWarning: invalid value encountered in double_scalars\n",
      "  ret = ret.dtype.type(ret / rcount)\n",
      "/home/daniil/miniconda3/envs/frap/lib/python3.9/site-packages/numpy/core/fromnumeric.py:3474: RuntimeWarning: Mean of empty slice.\n",
      "  return _methods._mean(a, axis=axis, dtype=dtype,\n",
      "/home/daniil/miniconda3/envs/frap/lib/python3.9/site-packages/numpy/core/_methods.py:189: RuntimeWarning: invalid value encountered in double_scalars\n",
      "  ret = ret.dtype.type(ret / rcount)\n",
      "/home/daniil/miniconda3/envs/frap/lib/python3.9/site-packages/numpy/core/fromnumeric.py:3474: RuntimeWarning: Mean of empty slice.\n",
      "  return _methods._mean(a, axis=axis, dtype=dtype,\n",
      "/home/daniil/miniconda3/envs/frap/lib/python3.9/site-packages/numpy/core/_methods.py:189: RuntimeWarning: invalid value encountered in double_scalars\n",
      "  ret = ret.dtype.type(ret / rcount)\n",
      "/home/daniil/miniconda3/envs/frap/lib/python3.9/site-packages/numpy/core/fromnumeric.py:3474: RuntimeWarning: Mean of empty slice.\n",
      "  return _methods._mean(a, axis=axis, dtype=dtype,\n",
      "/home/daniil/miniconda3/envs/frap/lib/python3.9/site-packages/numpy/core/_methods.py:189: RuntimeWarning: invalid value encountered in double_scalars\n",
      "  ret = ret.dtype.type(ret / rcount)\n",
      "/home/daniil/miniconda3/envs/frap/lib/python3.9/site-packages/numpy/core/fromnumeric.py:3474: RuntimeWarning: Mean of empty slice.\n",
      "  return _methods._mean(a, axis=axis, dtype=dtype,\n",
      "/home/daniil/miniconda3/envs/frap/lib/python3.9/site-packages/numpy/core/_methods.py:189: RuntimeWarning: invalid value encountered in double_scalars\n",
      "  ret = ret.dtype.type(ret / rcount)\n",
      "/home/daniil/miniconda3/envs/frap/lib/python3.9/site-packages/numpy/core/fromnumeric.py:3474: RuntimeWarning: Mean of empty slice.\n",
      "  return _methods._mean(a, axis=axis, dtype=dtype,\n",
      "/home/daniil/miniconda3/envs/frap/lib/python3.9/site-packages/numpy/core/_methods.py:189: RuntimeWarning: invalid value encountered in double_scalars\n",
      "  ret = ret.dtype.type(ret / rcount)\n",
      "/home/daniil/miniconda3/envs/frap/lib/python3.9/site-packages/numpy/core/fromnumeric.py:3474: RuntimeWarning: Mean of empty slice.\n",
      "  return _methods._mean(a, axis=axis, dtype=dtype,\n",
      "/home/daniil/miniconda3/envs/frap/lib/python3.9/site-packages/numpy/core/_methods.py:189: RuntimeWarning: invalid value encountered in double_scalars\n",
      "  ret = ret.dtype.type(ret / rcount)\n",
      "/home/daniil/miniconda3/envs/frap/lib/python3.9/site-packages/numpy/core/fromnumeric.py:3474: RuntimeWarning: Mean of empty slice.\n",
      "  return _methods._mean(a, axis=axis, dtype=dtype,\n",
      "/home/daniil/miniconda3/envs/frap/lib/python3.9/site-packages/numpy/core/_methods.py:189: RuntimeWarning: invalid value encountered in double_scalars\n",
      "  ret = ret.dtype.type(ret / rcount)\n",
      "/home/daniil/miniconda3/envs/frap/lib/python3.9/site-packages/numpy/core/fromnumeric.py:3474: RuntimeWarning: Mean of empty slice.\n",
      "  return _methods._mean(a, axis=axis, dtype=dtype,\n",
      "/home/daniil/miniconda3/envs/frap/lib/python3.9/site-packages/numpy/core/_methods.py:189: RuntimeWarning: invalid value encountered in double_scalars\n",
      "  ret = ret.dtype.type(ret / rcount)\n",
      "/home/daniil/miniconda3/envs/frap/lib/python3.9/site-packages/numpy/core/fromnumeric.py:3474: RuntimeWarning: Mean of empty slice.\n",
      "  return _methods._mean(a, axis=axis, dtype=dtype,\n",
      "/home/daniil/miniconda3/envs/frap/lib/python3.9/site-packages/numpy/core/_methods.py:189: RuntimeWarning: invalid value encountered in double_scalars\n",
      "  ret = ret.dtype.type(ret / rcount)\n",
      "/home/daniil/miniconda3/envs/frap/lib/python3.9/site-packages/numpy/core/fromnumeric.py:3474: RuntimeWarning: Mean of empty slice.\n",
      "  return _methods._mean(a, axis=axis, dtype=dtype,\n",
      "/home/daniil/miniconda3/envs/frap/lib/python3.9/site-packages/numpy/core/_methods.py:189: RuntimeWarning: invalid value encountered in double_scalars\n",
      "  ret = ret.dtype.type(ret / rcount)\n",
      "/home/daniil/miniconda3/envs/frap/lib/python3.9/site-packages/numpy/core/fromnumeric.py:3474: RuntimeWarning: Mean of empty slice.\n",
      "  return _methods._mean(a, axis=axis, dtype=dtype,\n",
      "/home/daniil/miniconda3/envs/frap/lib/python3.9/site-packages/numpy/core/_methods.py:189: RuntimeWarning: invalid value encountered in double_scalars\n",
      "  ret = ret.dtype.type(ret / rcount)\n",
      "/home/daniil/miniconda3/envs/frap/lib/python3.9/site-packages/numpy/core/fromnumeric.py:3474: RuntimeWarning: Mean of empty slice.\n",
      "  return _methods._mean(a, axis=axis, dtype=dtype,\n",
      "/home/daniil/miniconda3/envs/frap/lib/python3.9/site-packages/numpy/core/_methods.py:189: RuntimeWarning: invalid value encountered in double_scalars\n",
      "  ret = ret.dtype.type(ret / rcount)\n",
      "/home/daniil/miniconda3/envs/frap/lib/python3.9/site-packages/numpy/core/fromnumeric.py:3474: RuntimeWarning: Mean of empty slice.\n",
      "  return _methods._mean(a, axis=axis, dtype=dtype,\n",
      "/home/daniil/miniconda3/envs/frap/lib/python3.9/site-packages/numpy/core/_methods.py:189: RuntimeWarning: invalid value encountered in double_scalars\n",
      "  ret = ret.dtype.type(ret / rcount)\n",
      "/home/daniil/miniconda3/envs/frap/lib/python3.9/site-packages/numpy/core/fromnumeric.py:3474: RuntimeWarning: Mean of empty slice.\n",
      "  return _methods._mean(a, axis=axis, dtype=dtype,\n",
      "/home/daniil/miniconda3/envs/frap/lib/python3.9/site-packages/numpy/core/_methods.py:189: RuntimeWarning: invalid value encountered in double_scalars\n",
      "  ret = ret.dtype.type(ret / rcount)\n",
      "/home/daniil/miniconda3/envs/frap/lib/python3.9/site-packages/numpy/core/fromnumeric.py:3474: RuntimeWarning: Mean of empty slice.\n",
      "  return _methods._mean(a, axis=axis, dtype=dtype,\n",
      "/home/daniil/miniconda3/envs/frap/lib/python3.9/site-packages/numpy/core/_methods.py:189: RuntimeWarning: invalid value encountered in double_scalars\n",
      "  ret = ret.dtype.type(ret / rcount)\n",
      "/home/daniil/miniconda3/envs/frap/lib/python3.9/site-packages/numpy/core/fromnumeric.py:3474: RuntimeWarning: Mean of empty slice.\n",
      "  return _methods._mean(a, axis=axis, dtype=dtype,\n",
      "/home/daniil/miniconda3/envs/frap/lib/python3.9/site-packages/numpy/core/_methods.py:189: RuntimeWarning: invalid value encountered in double_scalars\n",
      "  ret = ret.dtype.type(ret / rcount)\n"
     ]
    }
   ],
   "source": [
    "res1 = singular_process('FRAP 009', params)"
   ]
  },
  {
   "cell_type": "code",
   "execution_count": 7,
   "metadata": {},
   "outputs": [
    {
     "data": {
      "text/plain": [
       "[]"
      ]
     },
     "execution_count": 7,
     "metadata": {},
     "output_type": "execute_result"
    },
    {
     "data": {
      "image/png": "[encoded data removed]",
      "text/plain": [
       "<Figure size 432x288 with 1 Axes>"
      ]
     },
     "metadata": {
      "needs_background": "light"
     },
     "output_type": "display_data"
    }
   ],
   "source": [
    "plt.scatter(res1[0], res1[1])\n",
    "plt.plot()"
   ]
  },
  {
   "cell_type": "code",
   "execution_count": 57,
   "metadata": {},
   "outputs": [],
   "source": [
    "img1 = np.array(data1.getFrameInRun(run_name)[10])\n",
    "load_main_img1 = MainShapeAnalyzer(img1)\n",
    "load_sec_img1 = SecondaryShapeAnalyzer(load_main_img1.displayMaskedImg(), img1)"
   ]
  },
  {
   "cell_type": "code",
   "execution_count": null,
   "metadata": {},
   "outputs": [
    {
     "data": {
      "image/png": "[encoded data removed]",
      "text/plain": [
       "<Figure size 432x288 with 1 Axes>"
      ]
     },
     "metadata": {
      "needs_background": "light"
     },
     "output_type": "display_data"
    }
   ],
   "source": [
    "plt.imshow(load_main_img1.binary)\n",
    "plt.show()"
   ]
  },
  {
   "cell_type": "code",
   "execution_count": 46,
   "metadata": {},
   "outputs": [],
   "source": [
    "with open('/home/daniil/codebase/frap/results_160322_CrACr.json', 'r') as json_f:\n",
    "    results_dict = json.load(json_f)\n",
    "\n",
    "with open('/home/daniil/codebase/frap/params_160322_CrACr.pickle', 'rb') as pickl_file:\n",
    "    params = pickle.load(pickl_file)\n"
   ]
  },
  {
   "cell_type": "code",
   "execution_count": 47,
   "metadata": {},
   "outputs": [
    {
     "data": {
      "image/png": "[encoded data removed]",
      "text/plain": [
       "<Figure size 432x288 with 1 Axes>"
      ]
     },
     "metadata": {
      "needs_background": "light"
     },
     "output_type": "display_data"
    }
   ],
   "source": [
    "for run in results_dict.keys():\n",
    "    run_load = results_dict[run]\n",
    "    try:\n",
    "        plt.plot(run_load[0], run_load[1])\n",
    "    except:\n",
    "        continue\n",
    "plt.show()"
   ]
  },
  {
   "cell_type": "code",
   "execution_count": 77,
   "metadata": {},
   "outputs": [],
   "source": [
    "import glob\n",
    "from scipy import special\n",
    "from scipy.optimize import curve_fit\n",
    "\n",
    "#can be made into separate module, called function or something. So it will be easier to manage\n",
    "\n",
    "def d2_eqn_diffusion(t, tau):\n",
    "    return np.exp(-tau/(t*2))*(special.iv(0,tau/(t*2))+special.iv(1,tau/(t*2)))\n",
    "\n",
    "def d1_eqn_diffusion(t, tau):\n",
    "    return 1-special.erf(np.sqrt(tau/t))+np.sqrt(t/(np.pi*tau))*(1-np.exp(-tau/t))\n",
    "\n",
    "def d3_eqn_diffusion(t, tau):\n",
    "    #print(tau)\n",
    "    #print(t)\n",
    "    return 1-special.erf(np.sqrt(tau/t))+np.sqrt(t/(np.pi*tau))*(3-np.exp(-(tau/t)))+2*np.sqrt((t**3/(np.pi*tau**3)))*(np.exp(-tau/t)-1)\n",
    "\n",
    "def exponential_eqn_simple(t, tau, A):\n",
    "    return A*(1-np.exp(-t/tau))\n",
    "\n",
    "def get_r2(ydat, xdata, popt, function_fit):\n",
    "    residauals = ydat-function_fit(xdata, *popt)\n",
    "    ss_res = np.sum(np.nan_to_num(residauals)**2)\n",
    "    ss_tot = np.sum((ydat-np.mean(ydat))**2)\n",
    "    return 1-(ss_res/ss_tot)\n",
    "\n",
    "functions = {\n",
    "    1 : d1_eqn_diffusion,\n",
    "    2 : d2_eqn_diffusion,\n",
    "    3 : d3_eqn_diffusion,\n",
    "    4 : exponential_eqn_simple\n",
    "}\n",
    "\n",
    "\n",
    "class CurveAnalysis():\n",
    "\n",
    "    functions = {\n",
    "    1 : d1_eqn_diffusion,\n",
    "    2 : d2_eqn_diffusion,\n",
    "    3 : d3_eqn_diffusion,\n",
    "    4 : exponential_eqn_simple\n",
    "}\n",
    "\n",
    "\n",
    "    def __init__(self, plotdata, function_type):\n",
    "        self.int_values_list = np.array(plotdata[1])\n",
    "        self.time_values = np.array(plotdata[0])\n",
    "        self.first_zero = [index for index, value in enumerate(self.time_values) if value <= 0]\n",
    "        self.function_t = functions[int(function_type)]\n",
    "        self.nonzerotime = self.time_values[self.first_zero[-1]:]+1e9\n",
    "\n",
    "\n",
    "    def fitEquation(self):\n",
    "        popt, pcov = curve_fit(self.function_t , self.time_values[self.first_zero[-1]:] , self.int_values_list[self.first_zero[-1]:])\n",
    "        return popt\n",
    "    \n",
    "    def fitEquation_nz(self):\n",
    "        popt, pcov = curve_fit(self.function_t , self.nonzerotime , self.int_values_list[self.first_zero[-1]:])\n",
    "        return popt\n",
    "    \n",
    "    def returnR2(self):\n",
    "        #print(self.fitEquation())\n",
    "        \n",
    "        r2_value = get_r2(self.int_values_list[self.first_zero[-1]:], self.time_values[self.first_zero[-1]:], self.fitEquation(), self.function_t)\n",
    "        return r2_value\n",
    "\n",
    "    def returnR2_nz(self):\n",
    "        #print(self.fitEquation())\n",
    "        \n",
    "        r2_value = get_r2(self.int_values_list[self.first_zero[-1]:], self.nonzerotime, self.fitEquation_nz(), self.function_t)\n",
    "        return r2_value\n",
    "\n",
    "    def plotCurve(self):\n",
    "        plt.scatter(self.time_values[self.first_zero[-1]:],self.int_values_list[self.first_zero[-1]:])"
   ]
  },
  {
   "cell_type": "code",
   "execution_count": 50,
   "metadata": {},
   "outputs": [
    {
     "name": "stderr",
     "output_type": "stream",
     "text": [
      "<ipython-input-49-b9736445f1eb>:16: RuntimeWarning: divide by zero encountered in true_divide\n",
      "  return 1-special.erf(np.sqrt(tau/t))+np.sqrt(t/(np.pi*tau))*(3-np.exp(-(tau/t)))+2*np.sqrt((t**3/(np.pi*tau**3)))*(np.exp(-tau/t)-1)\n"
     ]
    },
    {
     "data": {
      "text/plain": [
       "0.8998470734602205"
      ]
     },
     "execution_count": 50,
     "metadata": {},
     "output_type": "execute_result"
    }
   ],
   "source": [
    "cur_liz1 = CurveAnalysis(results_dict['FRAP_002'], 3)\n",
    "cur_liz1.returnR2()"
   ]
  },
  {
   "cell_type": "code",
   "execution_count": 11,
   "metadata": {},
   "outputs": [
    {
     "name": "stderr",
     "output_type": "stream",
     "text": [
      "<ipython-input-9-c9c8fd3aa369>:15: RuntimeWarning: divide by zero encountered in true_divide\n",
      "  return 1-special.erf(np.sqrt(tau/t))+np.sqrt(t/(np.pi*tau))*(3-np.exp(-(tau/t)))+2*np.sqrt((t**3/(np.pi*tau**3)))*(np.exp(-tau/t)-1)\n"
     ]
    },
    {
     "data": {
      "text/plain": [
       "array([259.83814568])"
      ]
     },
     "execution_count": 11,
     "metadata": {},
     "output_type": "execute_result"
    }
   ],
   "source": [
    "cur_liz1.fitEquation()"
   ]
  },
  {
   "cell_type": "code",
   "execution_count": 71,
   "metadata": {},
   "outputs": [
    {
     "data": {
      "text/plain": [
       "{'FRAP': {'min_norm': 49.0,\n",
       "  'mean_norm': 123.0,\n",
       "  'roi_radius': 0.0,\n",
       "  'gaus_mix_model_main': BayesianGaussianMixture(n_components=2, random_state=42)},\n",
       " 'FRAP_001': {'min_norm': 35.0,\n",
       "  'mean_norm': 116.0,\n",
       "  'roi_radius': 0.0,\n",
       "  'gaus_mix_model_main': BayesianGaussianMixture(n_components=2, random_state=42)},\n",
       " 'FRAP_002': {'min_norm': 28.0,\n",
       "  'mean_norm': 122.0,\n",
       "  'roi_radius': 17.0,\n",
       "  'gaus_mix_model_main': BayesianGaussianMixture(n_components=2, random_state=42)},\n",
       " 'FRAP_003': {'min_norm': 19.0,\n",
       "  'mean_norm': 101.0,\n",
       "  'roi_radius': 13.0,\n",
       "  'gaus_mix_model_main': BayesianGaussianMixture(n_components=2, random_state=42)},\n",
       " 'FRAP_004': {'min_norm': 24.0,\n",
       "  'mean_norm': 129.0,\n",
       "  'roi_radius': 5.0,\n",
       "  'gaus_mix_model_main': BayesianGaussianMixture(n_components=2, random_state=42)},\n",
       " 'FRAP_005': {'min_norm': 26.0,\n",
       "  'mean_norm': 129.0,\n",
       "  'roi_radius': 21.0,\n",
       "  'gaus_mix_model_main': BayesianGaussianMixture(n_components=2, random_state=42)},\n",
       " 'FRAP_006': {'min_norm': 23.0,\n",
       "  'mean_norm': 124.0,\n",
       "  'roi_radius': 0.0,\n",
       "  'gaus_mix_model_main': BayesianGaussianMixture(n_components=2, random_state=42)},\n",
       " 'FRAP_007': {'min_norm': 21.0,\n",
       "  'mean_norm': 122.0,\n",
       "  'roi_radius': 18.0,\n",
       "  'gaus_mix_model_main': BayesianGaussianMixture(n_components=2, random_state=42)},\n",
       " 'FRAP_008': {'min_norm': 26.0,\n",
       "  'mean_norm': 129.0,\n",
       "  'roi_radius': 21.0,\n",
       "  'gaus_mix_model_main': BayesianGaussianMixture(n_components=2, random_state=42)},\n",
       " 'FRAP_009': {'min_norm': 23.0,\n",
       "  'mean_norm': 125.0,\n",
       "  'roi_radius': 6.0,\n",
       "  'gaus_mix_model_main': BayesianGaussianMixture(n_components=2, random_state=42)},\n",
       " 'FRAP_010': {'min_norm': 20.0,\n",
       "  'mean_norm': 105.0,\n",
       "  'roi_radius': 24.0,\n",
       "  'gaus_mix_model_main': BayesianGaussianMixture(n_components=2, random_state=42)},\n",
       " 'FRAP_011': {'min_norm': 16.0,\n",
       "  'mean_norm': 102.0,\n",
       "  'roi_radius': 18.0,\n",
       "  'gaus_mix_model_main': BayesianGaussianMixture(n_components=2, random_state=42)},\n",
       " 'FRAP_012': {'min_norm': 21.0,\n",
       "  'mean_norm': 127.0,\n",
       "  'roi_radius': 15.0,\n",
       "  'gaus_mix_model_main': BayesianGaussianMixture(n_components=2, random_state=42)},\n",
       " 'FRAP_013': {'min_norm': 23.0,\n",
       "  'mean_norm': 48.0,\n",
       "  'roi_radius': 0.0,\n",
       "  'gaus_mix_model_main': BayesianGaussianMixture(n_components=2, random_state=42)},\n",
       " 'FRAP_014': {'min_norm': 23.0,\n",
       "  'mean_norm': 91.0,\n",
       "  'roi_radius': 0.0,\n",
       "  'gaus_mix_model_main': BayesianGaussianMixture(n_components=2, random_state=42)},\n",
       " 'FRAP_015': {'min_norm': 24.0,\n",
       "  'mean_norm': 148.0,\n",
       "  'roi_radius': 30.0,\n",
       "  'gaus_mix_model_main': BayesianGaussianMixture(n_components=2, random_state=42)},\n",
       " 'FRAP_016': {'min_norm': 24.0,\n",
       "  'mean_norm': 135.0,\n",
       "  'roi_radius': 33.0,\n",
       "  'gaus_mix_model_main': BayesianGaussianMixture(n_components=2, random_state=42)},\n",
       " 'FRAP_017': {'min_norm': 30.0,\n",
       "  'mean_norm': 182.0,\n",
       "  'roi_radius': 30.0,\n",
       "  'gaus_mix_model_main': BayesianGaussianMixture(n_components=2, random_state=42)},\n",
       " 'FRAP_018': {'min_norm': 23.0,\n",
       "  'mean_norm': 183.0,\n",
       "  'roi_radius': 27.0,\n",
       "  'gaus_mix_model_main': BayesianGaussianMixture(n_components=2, random_state=42)},\n",
       " 'FRAP_019': {'min_norm': 49.0,\n",
       "  'mean_norm': 179.0,\n",
       "  'roi_radius': 41.0,\n",
       "  'gaus_mix_model_main': BayesianGaussianMixture(n_components=2, random_state=42)},\n",
       " 'FRAP_020': {'min_norm': 26.0,\n",
       "  'mean_norm': 170.0,\n",
       "  'roi_radius': 46.0,\n",
       "  'gaus_mix_model_main': BayesianGaussianMixture(n_components=2, random_state=42)},\n",
       " 'FRAP_021': {'min_norm': 18.0,\n",
       "  'mean_norm': 49.0,\n",
       "  'roi_radius': 0.0,\n",
       "  'gaus_mix_model_main': BayesianGaussianMixture(n_components=2, random_state=42)},\n",
       " 'FRAP_022': {'min_norm': 18.0,\n",
       "  'mean_norm': 50.0,\n",
       "  'roi_radius': 10.0,\n",
       "  'gaus_mix_model_main': BayesianGaussianMixture(n_components=2, random_state=42)},\n",
       " 'FRAP_023': {'min_norm': 12.0,\n",
       "  'mean_norm': 26.0,\n",
       "  'roi_radius': 3.0,\n",
       "  'gaus_mix_model_main': BayesianGaussianMixture(n_components=2, random_state=42)},\n",
       " 'FRAP_024': {'min_norm': 14.0,\n",
       "  'mean_norm': 89.0,\n",
       "  'roi_radius': 0.0,\n",
       "  'gaus_mix_model_main': BayesianGaussianMixture(n_components=2, random_state=42)},\n",
       " 'FRAP_025': {'min_norm': 21.0,\n",
       "  'mean_norm': 101.0,\n",
       "  'roi_radius': 20.0,\n",
       "  'gaus_mix_model_main': BayesianGaussianMixture(n_components=2, random_state=42)},\n",
       " 'FRAP_026': {'min_norm': 9.0,\n",
       "  'mean_norm': 36.0,\n",
       "  'roi_radius': 0.0,\n",
       "  'gaus_mix_model_main': BayesianGaussianMixture(n_components=2, random_state=42)},\n",
       " 'FRAP_027': {'min_norm': 21.0,\n",
       "  'mean_norm': 99.0,\n",
       "  'roi_radius': 21.0,\n",
       "  'gaus_mix_model_main': BayesianGaussianMixture(n_components=2, random_state=42)},\n",
       " 'FRAP_028': {'min_norm': 22.0,\n",
       "  'mean_norm': 98.0,\n",
       "  'roi_radius': 17.0,\n",
       "  'gaus_mix_model_main': BayesianGaussianMixture(n_components=2, random_state=42)},\n",
       " 'FRAP_029': {'min_norm': 14.0,\n",
       "  'mean_norm': 89.0,\n",
       "  'roi_radius': 19.0,\n",
       "  'gaus_mix_model_main': BayesianGaussianMixture(n_components=2, random_state=42)},\n",
       " 'FRAP_030': {'min_norm': 15.0,\n",
       "  'mean_norm': 79.0,\n",
       "  'roi_radius': 39.0,\n",
       "  'gaus_mix_model_main': BayesianGaussianMixture(n_components=2, random_state=42)},\n",
       " 'FRAP_031': {'min_norm': 14.0,\n",
       "  'mean_norm': 88.0,\n",
       "  'roi_radius': 26.0,\n",
       "  'gaus_mix_model_main': BayesianGaussianMixture(n_components=2, random_state=42)},\n",
       " 'FRAP_032': {'min_norm': 14.0,\n",
       "  'mean_norm': 87.0,\n",
       "  'roi_radius': 11.0,\n",
       "  'gaus_mix_model_main': BayesianGaussianMixture(n_components=2, random_state=42)},\n",
       " 'FRAP_033': {'min_norm': 20.0,\n",
       "  'mean_norm': 127.0,\n",
       "  'roi_radius': 30.0,\n",
       "  'gaus_mix_model_main': BayesianGaussianMixture(n_components=2, random_state=42)},\n",
       " 'FRAP_034': {'min_norm': 15.0,\n",
       "  'mean_norm': 129.0,\n",
       "  'roi_radius': 20.0,\n",
       "  'gaus_mix_model_main': BayesianGaussianMixture(n_components=2, random_state=42)},\n",
       " 'FRAP_035': {'min_norm': 19.0,\n",
       "  'mean_norm': 125.0,\n",
       "  'roi_radius': 39.0,\n",
       "  'gaus_mix_model_main': BayesianGaussianMixture(n_components=2, random_state=42)},\n",
       " 'FRAP_036': {'min_norm': 35.0,\n",
       "  'mean_norm': 128.0,\n",
       "  'roi_radius': 40.0,\n",
       "  'gaus_mix_model_main': BayesianGaussianMixture(n_components=2, random_state=42)}}"
      ]
     },
     "execution_count": 71,
     "metadata": {},
     "output_type": "execute_result"
    }
   ],
   "source": [
    "params"
   ]
  },
  {
   "cell_type": "code",
   "execution_count": 79,
   "metadata": {},
   "outputs": [
    {
     "name": "stdout",
     "output_type": "stream",
     "text": [
      "[4.75403223]  um^2s^-1\n",
      "[9.11436456]  um^2s^-1\n",
      "[9.114406]  um^2s^-1\n",
      "[25.31751058]  um^2s^-1\n",
      "[59.52395211]  um^2s^-1\n",
      "[42.78633801]  um^2s^-1\n",
      "[45.00862381]  um^2s^-1\n"
     ]
    },
    {
     "name": "stderr",
     "output_type": "stream",
     "text": [
      "<ipython-input-77-2657e308550f>:16: RuntimeWarning: divide by zero encountered in true_divide\n",
      "  return 1-special.erf(np.sqrt(tau/t))+np.sqrt(t/(np.pi*tau))*(3-np.exp(-(tau/t)))+2*np.sqrt((t**3/(np.pi*tau**3)))*(np.exp(-tau/t)-1)\n",
      "<ipython-input-77-2657e308550f>:16: RuntimeWarning: invalid value encountered in sqrt\n",
      "  return 1-special.erf(np.sqrt(tau/t))+np.sqrt(t/(np.pi*tau))*(3-np.exp(-(tau/t)))+2*np.sqrt((t**3/(np.pi*tau**3)))*(np.exp(-tau/t)-1)\n",
      "<ipython-input-77-2657e308550f>:16: RuntimeWarning: invalid value encountered in multiply\n",
      "  return 1-special.erf(np.sqrt(tau/t))+np.sqrt(t/(np.pi*tau))*(3-np.exp(-(tau/t)))+2*np.sqrt((t**3/(np.pi*tau**3)))*(np.exp(-tau/t)-1)\n"
     ]
    },
    {
     "data": {
      "image/png": "[encoded data removed]",
      "text/plain": [
       "<Figure size 432x288 with 1 Axes>"
      ]
     },
     "metadata": {
      "needs_background": "light"
     },
     "output_type": "display_data"
    }
   ],
   "source": [
    "r2_results = {}\n",
    "for name, data in results_dict.items():\n",
    "    dataent = CurveAnalysis(data, 3)\n",
    "    r2_results[name] = dataent.returnR2()\n",
    "    if r2_results[name] > 0.90:\n",
    "        dataent.plotCurve()\n",
    "        print((params[name]['roi_radius']*xy_scale)**2/dataent.fitEquation_nz(), ' um^2s^-1')\n",
    "    else:\n",
    "        continue\n",
    "\n",
    "plt.show()\n"
   ]
  },
  {
   "cell_type": "code",
   "execution_count": 41,
   "metadata": {},
   "outputs": [
    {
     "data": {
      "text/plain": [
       "{'FRAP_001': 0.2832745821136292,\n",
       " 'FRAP': 0.06059420139873262,\n",
       " 'FRAP_002': 0.8998470734602205,\n",
       " 'FRAP_003': 0.9284727625294508,\n",
       " 'FRAP_006': 0.050492596672713,\n",
       " 'FRAP_004': -0.5508592599094182,\n",
       " 'FRAP_005': 0.863645350493605,\n",
       " 'FRAP_007': 0.9842523290250889,\n",
       " 'FRAP_010': 0.7844138420390396,\n",
       " 'FRAP_011': 0.9109305321652301,\n",
       " 'FRAP_008': 0.8189651455776866,\n",
       " 'FRAP_009': 0.815820649938245,\n",
       " 'FRAP_013': 0.5671262348983683,\n",
       " 'FRAP_012': 0.7368159344356211,\n",
       " 'FRAP_014': 0.16160082357855465,\n",
       " 'FRAP_015': 0.9432347733673664,\n",
       " 'FRAP_016': 0.8694731614665246,\n",
       " 'FRAP_017': 0.8592020506828166,\n",
       " 'FRAP_021': 0.514289141068022,\n",
       " 'FRAP_022': 0.4875086307598048,\n",
       " 'FRAP_020': 0.915695156895057,\n",
       " 'FRAP_018': 0.7187094548552587,\n",
       " 'FRAP_024': 0.21598362035230212,\n",
       " 'FRAP_023': -0.6103132803272686,\n",
       " 'FRAP_019': 0.8195524057361423,\n",
       " 'FRAP_026': -2.5027993852317696,\n",
       " 'FRAP_028': 0.6917496967209071,\n",
       " 'FRAP_027': 0.7002089888199745,\n",
       " 'FRAP_029': 0.6996496191473854,\n",
       " 'FRAP_031': 0.5653179159983828,\n",
       " 'FRAP_030': 0.9589654206842969,\n",
       " 'FRAP_033': 0.8688652469695063,\n",
       " 'FRAP_032': 0.5736299781128402,\n",
       " 'FRAP_025': 0.644667447986532,\n",
       " 'FRAP_034': 0.7443245541404797,\n",
       " 'FRAP_036': 0.9061870905766517,\n",
       " 'FRAP_035': 0.8756501804471327}"
      ]
     },
     "execution_count": 41,
     "metadata": {},
     "output_type": "execute_result"
    }
   ],
   "source": [
    "r2_results"
   ]
  },
  {
   "cell_type": "code",
   "execution_count": null,
   "metadata": {},
   "outputs": [],
   "source": []
  }
 ],
 "metadata": {
  "kernelspec": {
   "display_name": "Python 3.9.12 ('frap')",
   "language": "python",
   "name": "python3"
  },
  "language_info": {
   "codemirror_mode": {
    "name": "ipython",
    "version": 3
   },
   "file_extension": ".py",
   "mimetype": "text/x-python",
   "name": "python",
   "nbconvert_exporter": "python",
   "pygments_lexer": "ipython3",
   "version": "3.9.12"
  },
  "orig_nbformat": 4,
  "vscode": {
   "interpreter": {
    "hash": "f081312af71e173c6c02c0cfd49f8bcb213e9ed2153cb0ec0bb0c258cfa3f56d"
   }
  }
 },
 "nbformat": 4,
 "nbformat_minor": 2
}
